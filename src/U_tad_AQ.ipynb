{
  "nbformat": 4,
  "nbformat_minor": 0,
  "metadata": {
    "colab": {
      "name": "U-tad_AQ.ipynb",
      "provenance": [],
      "collapsed_sections": [
        "0o8Ze-krnMPh"
      ],
      "include_colab_link": true
    },
    "kernelspec": {
      "name": "python3",
      "display_name": "Python 3"
    }
  },
  "cells": [
    {
      "cell_type": "markdown",
      "metadata": {
        "id": "view-in-github",
        "colab_type": "text"
      },
      "source": [
        "<a href=\"https://colab.research.google.com/github/javiercarro/case-aq/blob/develop/src/U_tad_AQ.ipynb\" target=\"_parent\"><img src=\"https://colab.research.google.com/assets/colab-badge.svg\" alt=\"Open In Colab\"/></a>"
      ]
    },
    {
      "cell_type": "markdown",
      "metadata": {
        "id": "T8KD0BFPkzEv",
        "colab_type": "text"
      },
      "source": [
        "# Inicio"
      ]
    },
    {
      "cell_type": "code",
      "metadata": {
        "id": "7YsLq-Pfk-S8",
        "colab_type": "code",
        "outputId": "977679f8-7b21-42b4-8d2f-ce30eeae4560",
        "colab": {
          "base_uri": "https://localhost:8080/",
          "height": 34
        }
      },
      "source": [
        "# Montaje de Google Drive\n",
        "from google.colab import drive\n",
        "drive.mount('/content/drive')"
      ],
      "execution_count": 1,
      "outputs": [
        {
          "output_type": "stream",
          "text": [
            "Drive already mounted at /content/drive; to attempt to forcibly remount, call drive.mount(\"/content/drive\", force_remount=True).\n"
          ],
          "name": "stdout"
        }
      ]
    },
    {
      "cell_type": "code",
      "metadata": {
        "id": "Bcw3YS_dUAtn",
        "colab_type": "code",
        "outputId": "d9565870-1571-46ed-d3a0-c1a62f7c02b5",
        "colab": {
          "base_uri": "https://localhost:8080/",
          "height": 51
        }
      },
      "source": [
        "import os\n",
        "import pandas as pd\n",
        "import numpy as np\n",
        "from sklearn import metrics\n",
        "from sklearn import linear_model\n",
        "from sklearn.model_selection import GridSearchCV\n",
        "from sklearn.model_selection import train_test_split\n",
        "from sklearn.model_selection import cross_val_score\n",
        "from sklearn.ensemble import RandomForestRegressor\n",
        "import matplotlib\n",
        "import matplotlib.pyplot as plt\n",
        "import seaborn as sns\n",
        "from datetime import datetime\n",
        "import matplotlib.dates as mdates\n",
        "import warnings\n",
        "warnings.filterwarnings(\"ignore\")"
      ],
      "execution_count": 2,
      "outputs": [
        {
          "output_type": "stream",
          "text": [
            "/usr/local/lib/python3.6/dist-packages/statsmodels/tools/_testing.py:19: FutureWarning: pandas.util.testing is deprecated. Use the functions in the public API at pandas.testing instead.\n",
            "  import pandas.util.testing as tm\n"
          ],
          "name": "stderr"
        }
      ]
    },
    {
      "cell_type": "code",
      "metadata": {
        "id": "rJ4zMtAwUKmd",
        "colab_type": "code",
        "colab": {}
      },
      "source": [
        "# Datos clima\n",
        "df_model = pd.read_csv('./drive/My Drive/U-tad/UseCaseAQ/data/Ladreda2016.csv', sep=',', encoding='ISO-8859-1')\n",
        "df_test = pd.read_csv('./drive/My Drive/U-tad/UseCaseAQ/data/Ladreda2017.csv', sep=',', encoding='ISO-8859-1')"
      ],
      "execution_count": 0,
      "outputs": []
    },
    {
      "cell_type": "markdown",
      "metadata": {
        "id": "WmP-LF8bZFfD",
        "colab_type": "text"
      },
      "source": [
        "#Datos"
      ]
    },
    {
      "cell_type": "markdown",
      "metadata": {
        "id": "HW0S_1FKY1pZ",
        "colab_type": "text"
      },
      "source": [
        "## Datos de contaminación (Ayto. de Madrid)\n",
        "Descarga de datos para ver el formato complejo."
      ]
    },
    {
      "cell_type": "markdown",
      "metadata": {
        "id": "j4Q1vQuPY7qU",
        "colab_type": "text"
      },
      "source": [
        "## Datos meteorológicos (AEMET)\n",
        "Descarga de datos (ver que no hay histórico de datos horarios)\n",
        "\n",
        "\n",
        "> **Actividad**:\n",
        "> * Comprobar que no hay histórico de datos horarios\n",
        "> * Descargar histórico de datos de AEMET de un año\n",
        "\n",
        "\n",
        "\n",
        "\n",
        "\n"
      ]
    },
    {
      "cell_type": "markdown",
      "metadata": {
        "id": "bOTJtvryY-iw",
        "colab_type": "text"
      },
      "source": [
        "## Preparación de datasets de trabajo"
      ]
    },
    {
      "cell_type": "code",
      "metadata": {
        "id": "dIcrhlb0qck7",
        "colab_type": "code",
        "colab": {}
      },
      "source": [
        "df_model.describe()"
      ],
      "execution_count": 0,
      "outputs": []
    },
    {
      "cell_type": "markdown",
      "metadata": {
        "id": "WTMKw3E7ko7I",
        "colab_type": "text"
      },
      "source": [
        "### Correlaciones\n",
        " * Utilizando datos de 2016 y comprobando con 2017\n",
        " * Utilizando método \"forward selection\""
      ]
    },
    {
      "cell_type": "code",
      "metadata": {
        "id": "rqMF4V74ERgh",
        "colab_type": "code",
        "colab": {}
      },
      "source": [
        "matplotlib.rcParams['figure.figsize'] = (20.0, 8.0)\n",
        "\n",
        "x_values = [datetime.strptime(d,\"%Y-%m-%d\").date() for d in df_model['Fecha']]\n",
        "y1_values = df_model['NO2_medio']\n",
        "y2_values = df_model['NO2_mediano']\n",
        "y3_values = df_model['NO2_maximo']\n",
        "ax = plt.gca()\n",
        "ax.xaxis.set_major_formatter(mdates.DateFormatter(\"%Y-%m-%d\"))\n",
        "locator = mdates.DayLocator(bymonthday=1)\n",
        "ax.xaxis.set_major_locator(locator)\n",
        "plt.plot(x_values, y1_values, color='green', label='NO2 Medio')\n",
        "plt.plot(x_values, y2_values, color='blue', label='NO2 Mediano')\n",
        "plt.fill_between(x_values, y3_values, facecolor='blue', alpha=0.4, edgecolor='black', label='NO2 Máximo')\n",
        "plt.legend(loc=\"upper right\")\n",
        "print(np.std(df_model['NO2_medio']))\n",
        "print(np.std(df_model['NO2_mediano']))\n",
        "print(np.std(df_model['NO2_maximo']))"
      ],
      "execution_count": 0,
      "outputs": []
    },
    {
      "cell_type": "code",
      "metadata": {
        "id": "8caZjwd9x5l8",
        "colab_type": "code",
        "colab": {}
      },
      "source": [
        "var_corr = 'NO2_medio'\n",
        "matplotlib.rcParams['figure.figsize'] = (10.0, 15.0)\n",
        "df_model.corr()[var_corr].sort_values(ascending=False).plot(kind='barh')\n",
        "plt.xlim(-1, 1)\n",
        "plt.title(\"Correlation for variable\" + var_corr)"
      ],
      "execution_count": 0,
      "outputs": []
    },
    {
      "cell_type": "code",
      "metadata": {
        "colab_type": "code",
        "id": "sZhyNPUp1d8v",
        "colab": {}
      },
      "source": [
        "var_corr = 'NO2_mediano'\n",
        "matplotlib.rcParams['figure.figsize'] = (10.0, 15.0)\n",
        "df_model.corr()[var_corr].sort_values(ascending=False).plot(kind='barh')\n",
        "plt.xlim(-1, 1)\n",
        "plt.title(\"Correlation for variable\" + var_corr)"
      ],
      "execution_count": 0,
      "outputs": []
    },
    {
      "cell_type": "code",
      "metadata": {
        "colab_type": "code",
        "id": "ny9Q0rAq2R9R",
        "colab": {}
      },
      "source": [
        "var_corr = 'NO2_maximo'\n",
        "matplotlib.rcParams['figure.figsize'] = (10.0, 15.0)\n",
        "df_model.corr()[var_corr].sort_values(ascending=False).plot(kind='barh')\n",
        "plt.xlim(-1, 1)\n",
        "plt.title(\"Correlation for variable\" + var_corr)"
      ],
      "execution_count": 0,
      "outputs": []
    },
    {
      "cell_type": "code",
      "metadata": {
        "id": "Wv7UrGgmbxro",
        "colab_type": "code",
        "colab": {}
      },
      "source": [
        "# Correlaciones\n",
        "modelCorr = np.triu(df_model.corr())\n",
        "sns.heatmap(df_model.corr(), vmin=-1, vmax=1, center= 0, cmap= 'coolwarm', mask=modelCorr,  square=False)"
      ],
      "execution_count": 0,
      "outputs": []
    },
    {
      "cell_type": "code",
      "metadata": {
        "id": "pt777e4_klRP",
        "colab_type": "code",
        "colab": {}
      },
      "source": [
        "testCorr = np.triu(df_test.corr())\n",
        "sns.heatmap(df_test.corr(), vmin=-1, vmax=1, center= 0, cmap= 'coolwarm', mask=testCorr,  square=False)"
      ],
      "execution_count": 0,
      "outputs": []
    },
    {
      "cell_type": "code",
      "metadata": {
        "id": "huwjTndNkNrn",
        "colab_type": "code",
        "colab": {}
      },
      "source": [
        "for i,var in enumerate(df_model.corr().columns):\n",
        "    mv = df_model.corr().iloc[i+1:][var]\n",
        "    mv_related = mv[(mv > 0.9) | (mv < -0.9)]\n",
        "    if len(mv_related) > 0:\n",
        "        print(var+\":\")\n",
        "        print(\"--------------------------\")\n",
        "        print(mv_related)\n",
        "        print(\"\")"
      ],
      "execution_count": 0,
      "outputs": []
    },
    {
      "cell_type": "code",
      "metadata": {
        "id": "Ywf5hQqyt2K9",
        "colab_type": "code",
        "colab": {}
      },
      "source": [
        "from sklearn.datasets import load_breast_cancer\n",
        "data  = load_breast_cancer(return_X_y=False)\n",
        "\n",
        "import pandas as pd\n",
        "\n",
        "df=pd.DataFrame(data.data[:,:5])\n",
        "df.columns = data.feature_names[:5]\n",
        "\n",
        "\n",
        "\n",
        "import seaborn as sns;\n",
        "import matplotlib.pyplot as plt\n",
        "g= sns.pairplot(df, diag_kind= 'hist', \n",
        "             vars=df.columns[:-1],\n",
        "             plot_kws=dict(alpha=0.5), \n",
        "             diag_kws=dict(alpha=0.5))\n",
        "plt.show()"
      ],
      "execution_count": 0,
      "outputs": []
    },
    {
      "cell_type": "markdown",
      "metadata": {
        "id": "Xj0x1aVYZgSS",
        "colab_type": "text"
      },
      "source": [
        "### Limpieza"
      ]
    },
    {
      "cell_type": "code",
      "metadata": {
        "id": "XyO6jXLTWNVa",
        "colab_type": "code",
        "colab": {}
      },
      "source": [
        "# Eliminamos algunas columnas: las de NO2 del mismo dia, ya que no las tendremos en la prediccion\n",
        "# tambien otras columnas irrelevantes o que introducen ruido\n",
        "\n",
        "# Estaciones y NO2 del mismo dia\n",
        "df_model.drop(['Estacion_clima', 'Estacion_contaminacion', 'NO2_mediano', 'NO2_maximo', 'NO2_minimo'], axis=1, inplace=True)\n",
        "\n",
        "# Horas donde se producen valores maximos, minimos\n",
        "df_model.drop(['HoraTmin', 'HoraTmax', 'HoraRacha', 'HoraPresMax', 'HoraPresMin', 'HoraTmin_dia_anterior', 'HoraTmax_dia_anterior', 'HoraRacha_dia_anterior', 'HoraPresMax_dia_anterior', 'HoraPresMin_dia_anterior'], axis=1, inplace=True)\n",
        "\n",
        "# temperaturas\n",
        "# df_model.drop(['Tmed', 'Tmin', 'Tmax'], axis=1, inplace=True)\n",
        "\n",
        "# Viento\n",
        "# df_model.drop(['DirViento', 'VelViento', 'Racha'], axis=1, inplace=True)\n",
        "\n",
        "# presion\n",
        "# df_model.drop(['PresMax', 'PresMin'], axis=1, inplace=True)"
      ],
      "execution_count": 0,
      "outputs": []
    },
    {
      "cell_type": "code",
      "metadata": {
        "id": "Av5yeoROXKjp",
        "colab_type": "code",
        "colab": {}
      },
      "source": [
        "# Estaciones y NO2 del mismo dia\n",
        "df_test.drop(['Estacion_clima', 'Estacion_contaminacion', 'NO2_mediano', 'NO2_maximo', 'NO2_minimo'], axis=1, inplace=True)\n",
        "\n",
        "# Horas donde se producen valores maximos, minimos\n",
        "df_test.drop(['HoraTmin', 'HoraTmax', 'HoraRacha', 'HoraPresMax', 'HoraPresMin', 'HoraTmin_dia_anterior', 'HoraTmax_dia_anterior', 'HoraRacha_dia_anterior', 'HoraPresMax_dia_anterior', 'HoraPresMin_dia_anterior'], axis=1, inplace=True)\n",
        "\n",
        "# temperaturas\n",
        "# df_test.drop(['Tmed', 'Tmin', 'Tmax'], axis=1, inplace=True)\n",
        "\n",
        "# Viento\n",
        "# df_test.drop(['DirViento', 'VelViento', 'Racha'], axis=1, inplace=True)\n",
        "\n",
        "# presion\n",
        "# df_test.drop(['PresMax', 'PresMin'], axis=1, inplace=True)"
      ],
      "execution_count": 0,
      "outputs": []
    },
    {
      "cell_type": "code",
      "metadata": {
        "id": "CSUM5LG6XNUU",
        "colab_type": "code",
        "colab": {}
      },
      "source": [
        "# Guardamos las fechas para obtener un dataframe resultado de la forma: fecha/valor real/prediccion\n",
        "\n",
        "df_fecha = pd.DataFrame()\n",
        "df_fecha = df_test[['Fecha']].copy()"
      ],
      "execution_count": 0,
      "outputs": []
    },
    {
      "cell_type": "code",
      "metadata": {
        "id": "zz1Va8ovXR9k",
        "colab_type": "code",
        "colab": {}
      },
      "source": [
        "# Obtenemos los dummies\n",
        "\n",
        "df_model = pd.get_dummies(df_model, columns=['Estaciones_Anio', 'Mes', 'Dia_Semana', 'Fin_Semana', 'Festivo', 'Laborable', 'Pre_festivo', 'Escolar', 'Festivo_escolar', 'LLuvia', 'NivelViento'])"
      ],
      "execution_count": 0,
      "outputs": []
    },
    {
      "cell_type": "code",
      "metadata": {
        "id": "BeLZuULDXVKg",
        "colab_type": "code",
        "colab": {}
      },
      "source": [
        "df_test = pd.get_dummies(df_test, columns=['Estaciones_Anio', 'Mes', 'Dia_Semana', 'Fin_Semana', 'Festivo', 'Laborable', 'Pre_festivo', 'Escolar', 'Festivo_escolar', 'LLuvia', 'NivelViento'])"
      ],
      "execution_count": 0,
      "outputs": []
    },
    {
      "cell_type": "code",
      "metadata": {
        "id": "nYTSLex2XX_d",
        "colab_type": "code",
        "colab": {}
      },
      "source": [
        "# Eliminamos mas columnas que introducen ruido\n",
        "\n",
        "df_model.drop(['PresMax', 'PresMax_dia_anterior', 'PresMin', 'PresMin_dia_anterior'], axis=1, inplace=True)\n",
        "df_test.drop(['PresMax', 'PresMax_dia_anterior', 'PresMin', 'PresMin_dia_anterior'], axis=1, inplace=True)"
      ],
      "execution_count": 0,
      "outputs": []
    },
    {
      "cell_type": "code",
      "metadata": {
        "id": "oS4_BoN4XbOF",
        "colab_type": "code",
        "colab": {}
      },
      "source": [
        "# Completamos el dataframe test\n",
        "\n",
        "df_test['Estaciones_Anio_Otono'] = 0\n",
        "df_test['Mes_julio'] = 0\n",
        "df_test['Mes_agosto'] = 0\n",
        "df_test['Mes_septiembre'] = 0\n",
        "df_test['Mes_octubre'] = 0\n",
        "df_test['Mes_noviembre'] = 0\n",
        "df_test['Mes_diciembre'] = 0"
      ],
      "execution_count": 0,
      "outputs": []
    },
    {
      "cell_type": "code",
      "metadata": {
        "id": "GB5yJVraXrg7",
        "colab_type": "code",
        "colab": {}
      },
      "source": [
        "# Guardamos la columna target\n",
        "no2_model = df_model['NO2_medio']\n",
        "no2_test = df_test['NO2_medio']"
      ],
      "execution_count": 0,
      "outputs": []
    },
    {
      "cell_type": "markdown",
      "metadata": {
        "id": "qUg85_obZp4b",
        "colab_type": "text"
      },
      "source": [
        "### Preparación de datasets para algoritmos de ML\n",
        "Tomamos los datos de 2016 como datos de entrenamiento, y los de 2017 como datos de test. En este caso, esta proporción 50/50, frente a otras proporciones que se suelen utilizar, es aconsejable debido al comportamiento estacional (no sólo semanal, sino sobre todo anual a causa de las estaciones del año) aconseja esta división."
      ]
    },
    {
      "cell_type": "markdown",
      "metadata": {
        "id": "0o8Ze-krnMPh",
        "colab_type": "text"
      },
      "source": [
        "# Predicciones"
      ]
    },
    {
      "cell_type": "code",
      "metadata": {
        "id": "q-AtEYO7X2sg",
        "colab_type": "code",
        "colab": {}
      },
      "source": [
        "# Ridge\n",
        "def pred_ridge(X_train, y_train, X_test, y_test, name):\n",
        "    ridgeret = linear_model.Ridge() \n",
        "    grid = GridSearchCV(ridgeret,parametros,scoring='neg_mean_squared_error')\n",
        "    grid.fit(X_train,y_train)\n",
        "    alfa_ridge=grid.best_params_['alpha']\n",
        "\n",
        "    # # Instantiate model\n",
        "    ridgeret = linear_model.Ridge(alpha=alfa_ridge) \n",
        "    # ridgeret = linear_model.RidgeCV()\n",
        "\n",
        "    # # Fit Model\n",
        "    ridgeret.fit(X_train,y_train)\n",
        "\n",
        "    # # Predict\n",
        "    y_pred_ridge = ridgeret.predict(X_test)\n",
        "\n",
        "    results['Ridge_'+(str(name))] = y_pred_ridge\n",
        "\n",
        "    scores.loc[('Ridge'), ('R2_'+(str(name)))] = \"{0:.6f}\".format(metrics.r2_score(y_test, y_pred_ridge))\n",
        "    scores.loc[('Ridge'), ('RMSE_'+(str(name)))] = \"{0:.6f}\".format(np.sqrt(metrics.mean_squared_error(y_test, y_pred_ridge)))"
      ],
      "execution_count": 0,
      "outputs": []
    },
    {
      "cell_type": "code",
      "metadata": {
        "id": "65571zfxX9rA",
        "colab_type": "code",
        "colab": {}
      },
      "source": [
        "# RandomForestRegressor\n",
        "def pred_RF(X_train, y_train, X_test, y_test, name):\n",
        "    # Instantiate mode\n",
        "    # RF = RandomForestRegressor()\n",
        "    RF = RandomForestRegressor(n_estimators=100, criterion='mse')\n",
        "\n",
        "    # Fit Model\n",
        "    RF.fit(X_train,y_train)\n",
        "\n",
        "    # Predict\n",
        "    y_pred_RF = RF.predict(X_test)\n",
        "\n",
        "    # print(\"Features sorted by their score:\")\n",
        "    # print(sorted(zip(map(lambda x: round(x, 4), RF.feature_importances_), X_train.columns), reverse=True))\n",
        "\n",
        "    results['RF_'+(str(name))] = y_pred_RF\n",
        "    scores.loc[('RF'), ('R2_'+(str(name)))] = \"{0:.6f}\".format(metrics.r2_score(y_test, y_pred_RF))\n",
        "    scores.loc[('RF'), ('RMSE_'+(str(name)))] = \"{0:.6f}\".format(np.sqrt(metrics.mean_squared_error(y_test, y_pred_RF)))"
      ],
      "execution_count": 0,
      "outputs": []
    },
    {
      "cell_type": "code",
      "metadata": {
        "id": "mXP0bynsYAew",
        "colab_type": "code",
        "colab": {}
      },
      "source": [
        "def prediction(X_train, y_train, X_test, y_test, name):\n",
        "    pred_ridge(X_train, y_train, X_test, y_test, name)\n",
        "    pred_RF(X_train, y_train, X_test, y_test, name)"
      ],
      "execution_count": 0,
      "outputs": []
    },
    {
      "cell_type": "code",
      "metadata": {
        "id": "La4v6BSQYC3g",
        "colab_type": "code",
        "colab": {}
      },
      "source": [
        "# prediccion con NO2, clima e informacion de la fecha"
      ],
      "execution_count": 0,
      "outputs": []
    },
    {
      "cell_type": "code",
      "metadata": {
        "id": "LP9HLVcgYGKS",
        "colab_type": "code",
        "colab": {}
      },
      "source": [
        "df_model.drop('Fecha', axis=1, inplace=True)\n",
        "df_test.drop('Fecha', axis=1, inplace=True)\n",
        "\n",
        "# Split data\n",
        "X_train = df_model.drop('NO2_medio', axis=1)\n",
        "y_train = df_model['NO2_medio'].values\n",
        "\n",
        "X_test =  df_test.drop('NO2_medio', axis=1)\n",
        "y_test = df_test['NO2_medio'].values\n",
        "\n",
        "parametros = { 'alpha': np.arange(0, 50, 1)}\n",
        "\n",
        "results = pd.DataFrame()\n",
        "scores = pd.DataFrame(index=['Ridge', 'RF'])\n",
        "results['Test'] = y_test\n",
        "\n",
        "prediction(X_train, y_train, X_test, y_test, 'all')"
      ],
      "execution_count": 0,
      "outputs": []
    },
    {
      "cell_type": "code",
      "metadata": {
        "id": "0Nj9XfjWYOQN",
        "colab_type": "code",
        "colab": {}
      },
      "source": [
        "# prediccion con clima e informacion de la fecha"
      ],
      "execution_count": 0,
      "outputs": []
    },
    {
      "cell_type": "code",
      "metadata": {
        "id": "DUBe2T6zYRQD",
        "colab_type": "code",
        "colab": {}
      },
      "source": [
        "# Sin las variables de contaminacion:\n",
        "df_model.drop([col for col in df_model.columns if \"NO2\" in col], axis=1, inplace=True)\n",
        "df_test.drop([col for col in df_test.columns if \"NO2\" in col], axis=1, inplace=True)\n",
        "\n",
        "df_model['NO2_medio'] = no2_model\n",
        "df_test['NO2_medio'] = no2_test"
      ],
      "execution_count": 0,
      "outputs": []
    },
    {
      "cell_type": "code",
      "metadata": {
        "id": "R0Kv-69QYUx6",
        "colab_type": "code",
        "colab": {}
      },
      "source": [
        "# Split data\n",
        "X_train = df_model.drop('NO2_medio', axis=1)\n",
        "y_train = df_model['NO2_medio'].values\n",
        "\n",
        "X_test =  df_test.drop('NO2_medio', axis=1)\n",
        "y_test = df_test['NO2_medio'].values\n",
        "\n",
        "# prediccion con clima y fecha\n",
        "prediction(X_train, y_train, X_test, y_test, 'cl_date')"
      ],
      "execution_count": 0,
      "outputs": []
    },
    {
      "cell_type": "code",
      "metadata": {
        "id": "XN3YtcMsYbU_",
        "colab_type": "code",
        "colab": {}
      },
      "source": [
        "# Sin las variables de la fecha\n",
        "contlluvia_model = df_model['Contador_sin_lluvia']\n",
        "contlluvia_test = df_test['Contador_sin_lluvia']\n",
        "contviento_model = df_model['Contador_sin_viento']\n",
        "contviento_test = df_test['Contador_sin_viento']\n",
        "\n",
        "df_model.drop([col for col in df_model.columns if \"Contador\" in col], axis=1, inplace=True)\n",
        "df_test.drop([col for col in df_test.columns if \"Contador\" in col], axis=1, inplace=True)\n",
        "df_model.drop([col for col in df_model.columns if \"Estaciones\" in col], axis=1, inplace=True)\n",
        "df_test.drop([col for col in df_test.columns if \"Estaciones\" in col], axis=1, inplace=True)\n",
        "df_model.drop([col for col in df_model.columns if \"Mes\" in col], axis=1, inplace=True)\n",
        "df_test.drop([col for col in df_test.columns if \"Mes\" in col], axis=1, inplace=True)\n",
        "df_model.drop([col for col in df_model.columns if \"Semana\" in col], axis=1, inplace=True)\n",
        "df_test.drop([col for col in df_test.columns if \"Semana\" in col], axis=1, inplace=True)\n",
        "df_model.drop([col for col in df_model.columns if \"estivo\" in col], axis=1, inplace=True)\n",
        "df_test.drop([col for col in df_test.columns if \"estivo\" in col], axis=1, inplace=True)\n",
        "df_model.drop([col for col in df_model.columns if \"Laborable\" in col], axis=1, inplace=True)\n",
        "df_test.drop([col for col in df_test.columns if \"Laborable\" in col], axis=1, inplace=True)\n",
        "\n",
        "df_model['Contador_sin_lluvia'] = contlluvia_model\n",
        "df_test['Contador_sin_lluvia'] = contlluvia_test\n",
        "df_model['Contador_sin_viento'] = contviento_model\n",
        "df_test['Contador_sin_viento'] = contviento_test"
      ],
      "execution_count": 0,
      "outputs": []
    },
    {
      "cell_type": "code",
      "metadata": {
        "id": "iLziRCQuYfo5",
        "colab_type": "code",
        "colab": {}
      },
      "source": [
        "# Split data\n",
        "X_train = df_model.drop('NO2_medio', axis=1)\n",
        "y_train = df_model['NO2_medio'].values\n",
        "\n",
        "X_test =  df_test.drop('NO2_medio', axis=1)\n",
        "y_test = df_test['NO2_medio'].values\n",
        "\n",
        "# prediccion con clima\n",
        "prediction(X_train, y_train, X_test, y_test, 'cl')"
      ],
      "execution_count": 0,
      "outputs": []
    },
    {
      "cell_type": "code",
      "metadata": {
        "id": "oOh9aHauYjHC",
        "colab_type": "code",
        "colab": {}
      },
      "source": [
        "# Puntuaciones\n",
        "scores"
      ],
      "execution_count": 0,
      "outputs": []
    },
    {
      "cell_type": "code",
      "metadata": {
        "id": "EyD0t1aoYvVo",
        "colab_type": "code",
        "colab": {}
      },
      "source": [
        "# Obtenemos el df resultado\n",
        "results = pd.merge(df_fecha, results, left_index=True, right_index=True)\n",
        "results = results.sort_index()\n",
        "results"
      ],
      "execution_count": 0,
      "outputs": []
    },
    {
      "cell_type": "code",
      "metadata": {
        "id": "-Vs6yMsY5QK3",
        "colab_type": "code",
        "colab": {}
      },
      "source": [
        "matplotlib.rcParams['figure.figsize'] = (20.0, 8.0)\n",
        "\n",
        "x_values = [datetime.strptime(d,\"%Y-%m-%d\").date() for d in results['Fecha']]\n",
        "y1_values = results['Test']\n",
        "y3_values = results['Ridge_all']\n",
        "y4_values = results['RF_all']\n",
        "ax = plt.gca()\n",
        "ax.xaxis.set_major_formatter(mdates.DateFormatter(\"%Y-%m-%d\"))\n",
        "locator = mdates.DayLocator(bymonthday=1)\n",
        "ax.xaxis.set_major_locator(locator)\n",
        "plt.plot(x_values, y4_values, color='blue', label='RF_all')\n",
        "plt.plot(x_values, y3_values, color='green', label='Ridge_all')\n",
        "plt.fill_between(x_values, y1_values, facecolor='blue', alpha=0.4, edgecolor='black', label='Test')\n",
        "plt.legend(loc=\"upper right\")\n",
        "#print(np.std(df_model['Test']))\n",
        "#print(np.std(df_model['Lasso_all']))\n",
        "#print(np.std(df_model['Ridge_all']))"
      ],
      "execution_count": 0,
      "outputs": []
    }
  ]
}